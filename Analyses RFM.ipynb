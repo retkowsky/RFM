{
  "cells": [
    {
      "metadata": {},
      "cell_type": "markdown",
      "source": "# Analyse RFM "
    },
    {
      "metadata": {},
      "cell_type": "markdown",
      "source": "RFM Analysis. It is a marketing technique used to quantitatively determine which customers are the best ones by examining their shopping behaviour – how recently a customer has purchased (recency), how often they purchase (frequency), and how much the customer spends (monetary). RFM analysis is based on an extension of Pareto’s principle which says that “80% of your business comes from 20% of your customers.“\n\nCustomers who have purchased more recently, more frequently, and have spent more money, are likelier to buy again. But those who haven’t, are less valuable for the company and therefore, likely to churn. RFM stands for:\n\n**Recency – How recently did the customer purchase?**\nRecency is the most important predictor of who is more likely to show loyalty towards your brand. Customers who have purchased recently from you are more likely to purchase again from you compared to those who did not purchase recently.\n\n**Frequency – How often do they purchase?**\nThe second most important factor is how frequently these customers purchase from you. The higher the frequency, the higher is the chances of such customers making a repeat purchase.\n\n**Monetary – How much money do they spend (average basket value)?**"
    },
    {
      "metadata": {},
      "cell_type": "markdown",
      "source": "<img src=\"http://www.wiseguysmarketing.com/wp-content/uploads/2016/03/RFM.png\">"
    },
    {
      "metadata": {
        "trusted": true
      },
      "cell_type": "code",
      "source": "import sys\nsys.version",
      "execution_count": 3,
      "outputs": [
        {
          "output_type": "execute_result",
          "execution_count": 3,
          "data": {
            "text/plain": "'3.6.6 |Anaconda, Inc.| (default, Jun 28 2018, 17:14:51) \\n[GCC 7.2.0]'"
          },
          "metadata": {}
        }
      ]
    },
    {
      "metadata": {
        "trusted": true
      },
      "cell_type": "code",
      "source": "import datetime\nnow = datetime.datetime.now()\nprint(now)",
      "execution_count": 4,
      "outputs": [
        {
          "output_type": "stream",
          "text": "2019-10-18 13:54:20.932098\n",
          "name": "stdout"
        }
      ]
    },
    {
      "metadata": {
        "trusted": true
      },
      "cell_type": "code",
      "source": "import pandas as pd",
      "execution_count": 5,
      "outputs": []
    },
    {
      "metadata": {},
      "cell_type": "markdown",
      "source": "## 1. Fichier des transactions"
    },
    {
      "metadata": {
        "trusted": true
      },
      "cell_type": "code",
      "source": "ventes = pd.read_csv(\"https://raw.githubusercontent.com/retkowsky/RFM/master/transactions.csv\", delimiter=',')\nventes.head(10)",
      "execution_count": 26,
      "outputs": [
        {
          "output_type": "execute_result",
          "execution_count": 26,
          "data": {
            "text/html": "<div>\n<style scoped>\n    .dataframe tbody tr th:only-of-type {\n        vertical-align: middle;\n    }\n\n    .dataframe tbody tr th {\n        vertical-align: top;\n    }\n\n    .dataframe thead th {\n        text-align: right;\n    }\n</style>\n<table border=\"1\" class=\"dataframe\">\n  <thead>\n    <tr style=\"text-align: right;\">\n      <th></th>\n      <th>Code_Client</th>\n      <th>Date Achat</th>\n      <th>Numero Commande</th>\n      <th>Numero Ligne Produit</th>\n      <th>Code Produit</th>\n      <th>Quantite</th>\n      <th>PrixVenteTTCHorsRemise</th>\n      <th>PrixVenteTTCAvecRemise</th>\n      <th>Heure</th>\n      <th>Code Magasin</th>\n      <th>CodeVendeur</th>\n      <th>Montant</th>\n    </tr>\n  </thead>\n  <tbody>\n    <tr>\n      <th>0</th>\n      <td>495501.0</td>\n      <td>2017-01-01 00:00:00</td>\n      <td>12026.0</td>\n      <td>2.0</td>\n      <td>25441.0</td>\n      <td>1.0</td>\n      <td>41.333</td>\n      <td>41.333</td>\n      <td>1639.0</td>\n      <td>10000.0</td>\n      <td>28.0</td>\n      <td>41.333</td>\n    </tr>\n    <tr>\n      <th>1</th>\n      <td>495501.0</td>\n      <td>2017-01-01 00:00:00</td>\n      <td>12026.0</td>\n      <td>1.0</td>\n      <td>23768.0</td>\n      <td>1.0</td>\n      <td>32.400</td>\n      <td>32.400</td>\n      <td>1639.0</td>\n      <td>10001.0</td>\n      <td>28.0</td>\n      <td>32.400</td>\n    </tr>\n    <tr>\n      <th>2</th>\n      <td>1797430.0</td>\n      <td>2017-01-01 00:00:00</td>\n      <td>12001.0</td>\n      <td>3.0</td>\n      <td>82509.0</td>\n      <td>1.0</td>\n      <td>0.667</td>\n      <td>0.000</td>\n      <td>1607.0</td>\n      <td>10002.0</td>\n      <td>20.0</td>\n      <td>0.667</td>\n    </tr>\n    <tr>\n      <th>3</th>\n      <td>2248471.0</td>\n      <td>2017-01-01 00:00:00</td>\n      <td>12060.0</td>\n      <td>2.0</td>\n      <td>1856.0</td>\n      <td>1.0</td>\n      <td>12.000</td>\n      <td>11.400</td>\n      <td>1830.0</td>\n      <td>10002.0</td>\n      <td>31.0</td>\n      <td>12.000</td>\n    </tr>\n    <tr>\n      <th>4</th>\n      <td>2248499.0</td>\n      <td>2017-01-01 00:00:00</td>\n      <td>12004.0</td>\n      <td>1.0</td>\n      <td>36367.0</td>\n      <td>1.0</td>\n      <td>47.587</td>\n      <td>47.587</td>\n      <td>1610.0</td>\n      <td>10002.0</td>\n      <td>23.0</td>\n      <td>47.587</td>\n    </tr>\n    <tr>\n      <th>5</th>\n      <td>2248528.0</td>\n      <td>2017-01-01 00:00:00</td>\n      <td>12024.0</td>\n      <td>1.0</td>\n      <td>87914.0</td>\n      <td>1.0</td>\n      <td>11.600</td>\n      <td>11.600</td>\n      <td>1632.0</td>\n      <td>10001.0</td>\n      <td>4.0</td>\n      <td>11.600</td>\n    </tr>\n    <tr>\n      <th>6</th>\n      <td>2248820.0</td>\n      <td>2017-01-01 00:00:00</td>\n      <td>12057.0</td>\n      <td>5.0</td>\n      <td>72607.0</td>\n      <td>1.0</td>\n      <td>10.533</td>\n      <td>10.533</td>\n      <td>1820.0</td>\n      <td>10000.0</td>\n      <td>26.0</td>\n      <td>10.533</td>\n    </tr>\n    <tr>\n      <th>7</th>\n      <td>2248820.0</td>\n      <td>2017-01-01 00:00:00</td>\n      <td>12057.0</td>\n      <td>4.0</td>\n      <td>90140.0</td>\n      <td>1.0</td>\n      <td>6.933</td>\n      <td>6.933</td>\n      <td>1820.0</td>\n      <td>10000.0</td>\n      <td>26.0</td>\n      <td>6.933</td>\n    </tr>\n    <tr>\n      <th>8</th>\n      <td>2255804.0</td>\n      <td>2017-01-01 00:00:00</td>\n      <td>12067.0</td>\n      <td>1.0</td>\n      <td>89462.0</td>\n      <td>1.0</td>\n      <td>26.587</td>\n      <td>26.587</td>\n      <td>1906.0</td>\n      <td>10001.0</td>\n      <td>26.0</td>\n      <td>26.587</td>\n    </tr>\n    <tr>\n      <th>9</th>\n      <td>2267053.0</td>\n      <td>2017-01-01 00:00:00</td>\n      <td>12053.0</td>\n      <td>1.0</td>\n      <td>79081.0</td>\n      <td>1.0</td>\n      <td>100.800</td>\n      <td>100.800</td>\n      <td>1808.0</td>\n      <td>10000.0</td>\n      <td>31.0</td>\n      <td>100.800</td>\n    </tr>\n  </tbody>\n</table>\n</div>",
            "text/plain": "   Code_Client           Date Achat  Numero Commande  Numero Ligne Produit  \\\n0     495501.0  2017-01-01 00:00:00          12026.0                   2.0   \n1     495501.0  2017-01-01 00:00:00          12026.0                   1.0   \n2    1797430.0  2017-01-01 00:00:00          12001.0                   3.0   \n3    2248471.0  2017-01-01 00:00:00          12060.0                   2.0   \n4    2248499.0  2017-01-01 00:00:00          12004.0                   1.0   \n5    2248528.0  2017-01-01 00:00:00          12024.0                   1.0   \n6    2248820.0  2017-01-01 00:00:00          12057.0                   5.0   \n7    2248820.0  2017-01-01 00:00:00          12057.0                   4.0   \n8    2255804.0  2017-01-01 00:00:00          12067.0                   1.0   \n9    2267053.0  2017-01-01 00:00:00          12053.0                   1.0   \n\n   Code Produit  Quantite  PrixVenteTTCHorsRemise  PrixVenteTTCAvecRemise  \\\n0       25441.0       1.0                  41.333                  41.333   \n1       23768.0       1.0                  32.400                  32.400   \n2       82509.0       1.0                   0.667                   0.000   \n3        1856.0       1.0                  12.000                  11.400   \n4       36367.0       1.0                  47.587                  47.587   \n5       87914.0       1.0                  11.600                  11.600   \n6       72607.0       1.0                  10.533                  10.533   \n7       90140.0       1.0                   6.933                   6.933   \n8       89462.0       1.0                  26.587                  26.587   \n9       79081.0       1.0                 100.800                 100.800   \n\n    Heure  Code Magasin  CodeVendeur  Montant  \n0  1639.0       10000.0         28.0   41.333  \n1  1639.0       10001.0         28.0   32.400  \n2  1607.0       10002.0         20.0    0.667  \n3  1830.0       10002.0         31.0   12.000  \n4  1610.0       10002.0         23.0   47.587  \n5  1632.0       10001.0          4.0   11.600  \n6  1820.0       10000.0         26.0   10.533  \n7  1820.0       10000.0         26.0    6.933  \n8  1906.0       10001.0         26.0   26.587  \n9  1808.0       10000.0         31.0  100.800  "
          },
          "metadata": {}
        }
      ]
    },
    {
      "metadata": {
        "trusted": true
      },
      "cell_type": "code",
      "source": "ventes.describe()",
      "execution_count": 7,
      "outputs": [
        {
          "output_type": "execute_result",
          "execution_count": 7,
          "data": {
            "text/html": "<div>\n<style scoped>\n    .dataframe tbody tr th:only-of-type {\n        vertical-align: middle;\n    }\n\n    .dataframe tbody tr th {\n        vertical-align: top;\n    }\n\n    .dataframe thead th {\n        text-align: right;\n    }\n</style>\n<table border=\"1\" class=\"dataframe\">\n  <thead>\n    <tr style=\"text-align: right;\">\n      <th></th>\n      <th>Code_Client</th>\n      <th>Numero Commande</th>\n      <th>Numero Ligne Produit</th>\n      <th>Code Produit</th>\n      <th>Quantite</th>\n      <th>PrixVenteTTCHorsRemise</th>\n      <th>PrixVenteTTCAvecRemise</th>\n      <th>Heure</th>\n      <th>Code Magasin</th>\n      <th>CodeVendeur</th>\n      <th>Montant</th>\n    </tr>\n  </thead>\n  <tbody>\n    <tr>\n      <th>count</th>\n      <td>4.411000e+03</td>\n      <td>4411.000000</td>\n      <td>4411.000000</td>\n      <td>4411.000000</td>\n      <td>4411.000000</td>\n      <td>4411.000000</td>\n      <td>4411.000000</td>\n      <td>4411.000000</td>\n      <td>4411.000000</td>\n      <td>4411.000000</td>\n      <td>4411.000000</td>\n    </tr>\n    <tr>\n      <th>mean</th>\n      <td>3.247793e+06</td>\n      <td>12307.737928</td>\n      <td>2.300159</td>\n      <td>78992.072319</td>\n      <td>1.012469</td>\n      <td>35.309243</td>\n      <td>32.489602</td>\n      <td>1454.219225</td>\n      <td>10000.150306</td>\n      <td>17.462934</td>\n      <td>35.455786</td>\n    </tr>\n    <tr>\n      <th>std</th>\n      <td>1.264739e+06</td>\n      <td>8547.264548</td>\n      <td>2.048316</td>\n      <td>35480.470064</td>\n      <td>0.238245</td>\n      <td>29.400703</td>\n      <td>27.893240</td>\n      <td>267.312613</td>\n      <td>0.432612</td>\n      <td>11.183510</td>\n      <td>29.874411</td>\n    </tr>\n    <tr>\n      <th>min</th>\n      <td>1.269930e+05</td>\n      <td>430.000000</td>\n      <td>1.000000</td>\n      <td>4.000000</td>\n      <td>1.000000</td>\n      <td>0.000000</td>\n      <td>-4.707000</td>\n      <td>904.000000</td>\n      <td>10000.000000</td>\n      <td>1.000000</td>\n      <td>0.000000</td>\n    </tr>\n    <tr>\n      <th>25%</th>\n      <td>2.310253e+06</td>\n      <td>3773.500000</td>\n      <td>1.000000</td>\n      <td>52874.000000</td>\n      <td>1.000000</td>\n      <td>11.867000</td>\n      <td>10.533000</td>\n      <td>1237.000000</td>\n      <td>10000.000000</td>\n      <td>8.000000</td>\n      <td>11.867000</td>\n    </tr>\n    <tr>\n      <th>50%</th>\n      <td>2.767146e+06</td>\n      <td>11765.000000</td>\n      <td>2.000000</td>\n      <td>90303.000000</td>\n      <td>1.000000</td>\n      <td>26.960000</td>\n      <td>25.200000</td>\n      <td>1452.000000</td>\n      <td>10000.000000</td>\n      <td>22.000000</td>\n      <td>27.067000</td>\n    </tr>\n    <tr>\n      <th>75%</th>\n      <td>3.847057e+06</td>\n      <td>16488.500000</td>\n      <td>3.000000</td>\n      <td>106375.500000</td>\n      <td>1.000000</td>\n      <td>51.733000</td>\n      <td>48.200000</td>\n      <td>1657.000000</td>\n      <td>10000.000000</td>\n      <td>27.000000</td>\n      <td>51.867000</td>\n    </tr>\n    <tr>\n      <th>max</th>\n      <td>7.490767e+06</td>\n      <td>27955.000000</td>\n      <td>28.000000</td>\n      <td>140136.000000</td>\n      <td>11.000000</td>\n      <td>314.667000</td>\n      <td>305.120000</td>\n      <td>2017.000000</td>\n      <td>10002.000000</td>\n      <td>90.000000</td>\n      <td>336.000000</td>\n    </tr>\n  </tbody>\n</table>\n</div>",
            "text/plain": "        Code_Client  Numero Commande  Numero Ligne Produit   Code Produit  \\\ncount  4.411000e+03      4411.000000           4411.000000    4411.000000   \nmean   3.247793e+06     12307.737928              2.300159   78992.072319   \nstd    1.264739e+06      8547.264548              2.048316   35480.470064   \nmin    1.269930e+05       430.000000              1.000000       4.000000   \n25%    2.310253e+06      3773.500000              1.000000   52874.000000   \n50%    2.767146e+06     11765.000000              2.000000   90303.000000   \n75%    3.847057e+06     16488.500000              3.000000  106375.500000   \nmax    7.490767e+06     27955.000000             28.000000  140136.000000   \n\n          Quantite  PrixVenteTTCHorsRemise  PrixVenteTTCAvecRemise  \\\ncount  4411.000000             4411.000000             4411.000000   \nmean      1.012469               35.309243               32.489602   \nstd       0.238245               29.400703               27.893240   \nmin       1.000000                0.000000               -4.707000   \n25%       1.000000               11.867000               10.533000   \n50%       1.000000               26.960000               25.200000   \n75%       1.000000               51.733000               48.200000   \nmax      11.000000              314.667000              305.120000   \n\n             Heure  Code Magasin  CodeVendeur      Montant  \ncount  4411.000000   4411.000000  4411.000000  4411.000000  \nmean   1454.219225  10000.150306    17.462934    35.455786  \nstd     267.312613      0.432612    11.183510    29.874411  \nmin     904.000000  10000.000000     1.000000     0.000000  \n25%    1237.000000  10000.000000     8.000000    11.867000  \n50%    1452.000000  10000.000000    22.000000    27.067000  \n75%    1657.000000  10000.000000    27.000000    51.867000  \nmax    2017.000000  10002.000000    90.000000   336.000000  "
          },
          "metadata": {}
        }
      ]
    },
    {
      "metadata": {
        "trusted": true
      },
      "cell_type": "code",
      "source": "import datetime as dt\nNOW = dt.datetime(2019,1,22)",
      "execution_count": 8,
      "outputs": []
    },
    {
      "metadata": {
        "trusted": true
      },
      "cell_type": "code",
      "source": "ventes['Date Achat'] = pd.to_datetime(ventes['Date Achat'])",
      "execution_count": 9,
      "outputs": []
    },
    {
      "metadata": {
        "trusted": true
      },
      "cell_type": "code",
      "source": "TableRFM = ventes.groupby('Code_Client').agg({'Date Achat': lambda x: (NOW - x.max()).days, # Recency\n                                        'Numero Commande': lambda x: len(x),      # Frequency\n                                        'Montant': lambda x: x.sum()}) # Monetary Value\n\nTableRFM['Date Achat'] = TableRFM['Date Achat'].astype(int)\nTableRFM.rename(columns={'Date Achat': 'Récence', \n                         'Numero Commande': 'Fréquence', \n                         'Montant': 'Montant'}, inplace=True)",
      "execution_count": 10,
      "outputs": []
    },
    {
      "metadata": {},
      "cell_type": "markdown",
      "source": "## 2. Analyse RFM"
    },
    {
      "metadata": {
        "trusted": true
      },
      "cell_type": "code",
      "source": "TableRFM.head(10)",
      "execution_count": 11,
      "outputs": [
        {
          "output_type": "execute_result",
          "execution_count": 11,
          "data": {
            "text/html": "<div>\n<style scoped>\n    .dataframe tbody tr th:only-of-type {\n        vertical-align: middle;\n    }\n\n    .dataframe tbody tr th {\n        vertical-align: top;\n    }\n\n    .dataframe thead th {\n        text-align: right;\n    }\n</style>\n<table border=\"1\" class=\"dataframe\">\n  <thead>\n    <tr style=\"text-align: right;\">\n      <th></th>\n      <th>Récence</th>\n      <th>Fréquence</th>\n      <th>Montant</th>\n    </tr>\n    <tr>\n      <th>Code_Client</th>\n      <th></th>\n      <th></th>\n      <th></th>\n    </tr>\n  </thead>\n  <tbody>\n    <tr>\n      <th>126993.0</th>\n      <td>174</td>\n      <td>1.0</td>\n      <td>26.000</td>\n    </tr>\n    <tr>\n      <th>214674.0</th>\n      <td>143</td>\n      <td>3.0</td>\n      <td>116.800</td>\n    </tr>\n    <tr>\n      <th>318696.0</th>\n      <td>113</td>\n      <td>2.0</td>\n      <td>73.734</td>\n    </tr>\n    <tr>\n      <th>438711.0</th>\n      <td>327</td>\n      <td>3.0</td>\n      <td>102.134</td>\n    </tr>\n    <tr>\n      <th>495501.0</th>\n      <td>438</td>\n      <td>3.0</td>\n      <td>108.933</td>\n    </tr>\n    <tr>\n      <th>918238.0</th>\n      <td>600</td>\n      <td>1.0</td>\n      <td>80.667</td>\n    </tr>\n    <tr>\n      <th>1090522.0</th>\n      <td>292</td>\n      <td>1.0</td>\n      <td>31.467</td>\n    </tr>\n    <tr>\n      <th>1315018.0</th>\n      <td>355</td>\n      <td>1.0</td>\n      <td>20.000</td>\n    </tr>\n    <tr>\n      <th>1419361.0</th>\n      <td>265</td>\n      <td>1.0</td>\n      <td>39.333</td>\n    </tr>\n    <tr>\n      <th>1419459.0</th>\n      <td>438</td>\n      <td>2.0</td>\n      <td>92.667</td>\n    </tr>\n  </tbody>\n</table>\n</div>",
            "text/plain": "             Récence  Fréquence  Montant\nCode_Client                             \n126993.0         174        1.0   26.000\n214674.0         143        3.0  116.800\n318696.0         113        2.0   73.734\n438711.0         327        3.0  102.134\n495501.0         438        3.0  108.933\n918238.0         600        1.0   80.667\n1090522.0        292        1.0   31.467\n1315018.0        355        1.0   20.000\n1419361.0        265        1.0   39.333\n1419459.0        438        2.0   92.667"
          },
          "metadata": {}
        }
      ]
    },
    {
      "metadata": {
        "trusted": true
      },
      "cell_type": "code",
      "source": "# Historique pour un client donné\nClient438711 = ventes[ventes['Code_Client']==438711]\nClient438711",
      "execution_count": 12,
      "outputs": [
        {
          "output_type": "execute_result",
          "execution_count": 12,
          "data": {
            "text/html": "<div>\n<style scoped>\n    .dataframe tbody tr th:only-of-type {\n        vertical-align: middle;\n    }\n\n    .dataframe tbody tr th {\n        vertical-align: top;\n    }\n\n    .dataframe thead th {\n        text-align: right;\n    }\n</style>\n<table border=\"1\" class=\"dataframe\">\n  <thead>\n    <tr style=\"text-align: right;\">\n      <th></th>\n      <th>Code_Client</th>\n      <th>Date Achat</th>\n      <th>Numero Commande</th>\n      <th>Numero Ligne Produit</th>\n      <th>Code Produit</th>\n      <th>Quantite</th>\n      <th>PrixVenteTTCHorsRemise</th>\n      <th>PrixVenteTTCAvecRemise</th>\n      <th>Heure</th>\n      <th>Code Magasin</th>\n      <th>CodeVendeur</th>\n      <th>Montant</th>\n    </tr>\n  </thead>\n  <tbody>\n    <tr>\n      <th>2388</th>\n      <td>438711.0</td>\n      <td>2018-03-01</td>\n      <td>4596.0</td>\n      <td>2.0</td>\n      <td>118557.0</td>\n      <td>1.0</td>\n      <td>44.800</td>\n      <td>44.800</td>\n      <td>1337.0</td>\n      <td>10000.0</td>\n      <td>2.0</td>\n      <td>44.800</td>\n    </tr>\n    <tr>\n      <th>2389</th>\n      <td>438711.0</td>\n      <td>2018-03-01</td>\n      <td>4596.0</td>\n      <td>1.0</td>\n      <td>78270.0</td>\n      <td>1.0</td>\n      <td>30.267</td>\n      <td>30.267</td>\n      <td>1337.0</td>\n      <td>10000.0</td>\n      <td>2.0</td>\n      <td>30.267</td>\n    </tr>\n    <tr>\n      <th>2390</th>\n      <td>438711.0</td>\n      <td>2018-03-01</td>\n      <td>4602.0</td>\n      <td>1.0</td>\n      <td>21887.0</td>\n      <td>1.0</td>\n      <td>27.067</td>\n      <td>13.733</td>\n      <td>1346.0</td>\n      <td>10000.0</td>\n      <td>2.0</td>\n      <td>27.067</td>\n    </tr>\n  </tbody>\n</table>\n</div>",
            "text/plain": "      Code_Client Date Achat  Numero Commande  Numero Ligne Produit  \\\n2388     438711.0 2018-03-01           4596.0                   2.0   \n2389     438711.0 2018-03-01           4596.0                   1.0   \n2390     438711.0 2018-03-01           4602.0                   1.0   \n\n      Code Produit  Quantite  PrixVenteTTCHorsRemise  PrixVenteTTCAvecRemise  \\\n2388      118557.0       1.0                  44.800                  44.800   \n2389       78270.0       1.0                  30.267                  30.267   \n2390       21887.0       1.0                  27.067                  13.733   \n\n       Heure  Code Magasin  CodeVendeur  Montant  \n2388  1337.0       10000.0          2.0   44.800  \n2389  1337.0       10000.0          2.0   30.267  \n2390  1346.0       10000.0          2.0   27.067  "
          },
          "metadata": {}
        }
      ]
    },
    {
      "metadata": {
        "trusted": true
      },
      "cell_type": "code",
      "source": "quantiles = TableRFM.quantile(q=[0.25,0.5,0.75])",
      "execution_count": 13,
      "outputs": []
    },
    {
      "metadata": {
        "trusted": true
      },
      "cell_type": "code",
      "source": "quantiles",
      "execution_count": 14,
      "outputs": [
        {
          "output_type": "execute_result",
          "execution_count": 14,
          "data": {
            "text/html": "<div>\n<style scoped>\n    .dataframe tbody tr th:only-of-type {\n        vertical-align: middle;\n    }\n\n    .dataframe tbody tr th {\n        vertical-align: top;\n    }\n\n    .dataframe thead th {\n        text-align: right;\n    }\n</style>\n<table border=\"1\" class=\"dataframe\">\n  <thead>\n    <tr style=\"text-align: right;\">\n      <th></th>\n      <th>Récence</th>\n      <th>Fréquence</th>\n      <th>Montant</th>\n    </tr>\n  </thead>\n  <tbody>\n    <tr>\n      <th>0.25</th>\n      <td>265.0</td>\n      <td>1.0</td>\n      <td>27.8265</td>\n    </tr>\n    <tr>\n      <th>0.50</th>\n      <td>355.0</td>\n      <td>1.0</td>\n      <td>53.0670</td>\n    </tr>\n    <tr>\n      <th>0.75</th>\n      <td>438.0</td>\n      <td>2.0</td>\n      <td>87.7000</td>\n    </tr>\n  </tbody>\n</table>\n</div>",
            "text/plain": "      Récence  Fréquence  Montant\n0.25    265.0        1.0  27.8265\n0.50    355.0        1.0  53.0670\n0.75    438.0        2.0  87.7000"
          },
          "metadata": {}
        }
      ]
    },
    {
      "metadata": {
        "trusted": true
      },
      "cell_type": "code",
      "source": "quantiles = quantiles.to_dict()",
      "execution_count": 15,
      "outputs": []
    },
    {
      "metadata": {
        "trusted": true
      },
      "cell_type": "code",
      "source": "quantiles",
      "execution_count": 16,
      "outputs": [
        {
          "output_type": "execute_result",
          "execution_count": 16,
          "data": {
            "text/plain": "{'Récence': {0.25: 265.0, 0.5: 355.0, 0.75: 438.0},\n 'Fréquence': {0.25: 1.0, 0.5: 1.0, 0.75: 2.0},\n 'Montant': {0.25: 27.826500000000003,\n  0.5: 53.06699999999999,\n  0.75: 87.69999999999999}}"
          },
          "metadata": {}
        }
      ]
    },
    {
      "metadata": {
        "trusted": true
      },
      "cell_type": "code",
      "source": "SegmentationRFM = TableRFM",
      "execution_count": 17,
      "outputs": []
    },
    {
      "metadata": {
        "trusted": true
      },
      "cell_type": "code",
      "source": "# Arguments (x = value, p = recency, monetary_value, frequency, k = quartiles dict)\ndef RClass(x,p,d):\n    if x <= d[p][0.25]:\n        return 1\n    elif x <= d[p][0.50]:\n        return 2\n    elif x <= d[p][0.75]: \n        return 3\n    else:\n        return 4\n    \n# Arguments (x = value, p = recency, monetary_value, frequency, k = quartiles dict)\ndef FMClass(x,p,d):\n    if x <= d[p][0.25]:\n        return 4\n    elif x <= d[p][0.50]:\n        return 3\n    elif x <= d[p][0.75]: \n        return 2\n    else:\n        return 1",
      "execution_count": 18,
      "outputs": []
    },
    {
      "metadata": {
        "trusted": true
      },
      "cell_type": "code",
      "source": "SegmentationRFM['R_Quartile'] = SegmentationRFM['Récence'].apply(RClass, args=('Récence',quantiles,))\nSegmentationRFM['F_Quartile'] = SegmentationRFM['Fréquence'].apply(FMClass, args=('Fréquence',quantiles,))\nSegmentationRFM['M_Quartile'] = SegmentationRFM['Montant'].apply(FMClass, args=('Montant',quantiles,))",
      "execution_count": 19,
      "outputs": []
    },
    {
      "metadata": {
        "trusted": true
      },
      "cell_type": "code",
      "source": "SegmentationRFM['RFMClass'] = SegmentationRFM.R_Quartile.map(str) \\\n                            + SegmentationRFM.F_Quartile.map(str) \\\n                            + SegmentationRFM.M_Quartile.map(str)",
      "execution_count": 20,
      "outputs": []
    },
    {
      "metadata": {
        "trusted": true
      },
      "cell_type": "code",
      "source": "SegmentationRFM.head(20)",
      "execution_count": 21,
      "outputs": [
        {
          "output_type": "execute_result",
          "execution_count": 21,
          "data": {
            "text/html": "<div>\n<style scoped>\n    .dataframe tbody tr th:only-of-type {\n        vertical-align: middle;\n    }\n\n    .dataframe tbody tr th {\n        vertical-align: top;\n    }\n\n    .dataframe thead th {\n        text-align: right;\n    }\n</style>\n<table border=\"1\" class=\"dataframe\">\n  <thead>\n    <tr style=\"text-align: right;\">\n      <th></th>\n      <th>Récence</th>\n      <th>Fréquence</th>\n      <th>Montant</th>\n      <th>R_Quartile</th>\n      <th>F_Quartile</th>\n      <th>M_Quartile</th>\n      <th>RFMClass</th>\n    </tr>\n    <tr>\n      <th>Code_Client</th>\n      <th></th>\n      <th></th>\n      <th></th>\n      <th></th>\n      <th></th>\n      <th></th>\n      <th></th>\n    </tr>\n  </thead>\n  <tbody>\n    <tr>\n      <th>126993.0</th>\n      <td>174</td>\n      <td>1.0</td>\n      <td>26.000</td>\n      <td>1</td>\n      <td>4</td>\n      <td>4</td>\n      <td>144</td>\n    </tr>\n    <tr>\n      <th>214674.0</th>\n      <td>143</td>\n      <td>3.0</td>\n      <td>116.800</td>\n      <td>1</td>\n      <td>1</td>\n      <td>1</td>\n      <td>111</td>\n    </tr>\n    <tr>\n      <th>318696.0</th>\n      <td>113</td>\n      <td>2.0</td>\n      <td>73.734</td>\n      <td>1</td>\n      <td>2</td>\n      <td>2</td>\n      <td>122</td>\n    </tr>\n    <tr>\n      <th>438711.0</th>\n      <td>327</td>\n      <td>3.0</td>\n      <td>102.134</td>\n      <td>2</td>\n      <td>1</td>\n      <td>1</td>\n      <td>211</td>\n    </tr>\n    <tr>\n      <th>495501.0</th>\n      <td>438</td>\n      <td>3.0</td>\n      <td>108.933</td>\n      <td>3</td>\n      <td>1</td>\n      <td>1</td>\n      <td>311</td>\n    </tr>\n    <tr>\n      <th>918238.0</th>\n      <td>600</td>\n      <td>1.0</td>\n      <td>80.667</td>\n      <td>4</td>\n      <td>4</td>\n      <td>2</td>\n      <td>442</td>\n    </tr>\n    <tr>\n      <th>1090522.0</th>\n      <td>292</td>\n      <td>1.0</td>\n      <td>31.467</td>\n      <td>2</td>\n      <td>4</td>\n      <td>3</td>\n      <td>243</td>\n    </tr>\n    <tr>\n      <th>1315018.0</th>\n      <td>355</td>\n      <td>1.0</td>\n      <td>20.000</td>\n      <td>2</td>\n      <td>4</td>\n      <td>4</td>\n      <td>244</td>\n    </tr>\n    <tr>\n      <th>1419361.0</th>\n      <td>265</td>\n      <td>1.0</td>\n      <td>39.333</td>\n      <td>1</td>\n      <td>4</td>\n      <td>3</td>\n      <td>143</td>\n    </tr>\n    <tr>\n      <th>1419459.0</th>\n      <td>438</td>\n      <td>2.0</td>\n      <td>92.667</td>\n      <td>3</td>\n      <td>2</td>\n      <td>1</td>\n      <td>321</td>\n    </tr>\n    <tr>\n      <th>1470727.0</th>\n      <td>327</td>\n      <td>1.0</td>\n      <td>56.400</td>\n      <td>2</td>\n      <td>4</td>\n      <td>2</td>\n      <td>242</td>\n    </tr>\n    <tr>\n      <th>1470729.0</th>\n      <td>393</td>\n      <td>1.0</td>\n      <td>8.267</td>\n      <td>3</td>\n      <td>4</td>\n      <td>4</td>\n      <td>344</td>\n    </tr>\n    <tr>\n      <th>1470850.0</th>\n      <td>438</td>\n      <td>1.0</td>\n      <td>47.200</td>\n      <td>3</td>\n      <td>4</td>\n      <td>3</td>\n      <td>343</td>\n    </tr>\n    <tr>\n      <th>1470868.0</th>\n      <td>748</td>\n      <td>1.0</td>\n      <td>5.467</td>\n      <td>4</td>\n      <td>4</td>\n      <td>4</td>\n      <td>444</td>\n    </tr>\n    <tr>\n      <th>1484775.0</th>\n      <td>143</td>\n      <td>1.0</td>\n      <td>40.000</td>\n      <td>1</td>\n      <td>4</td>\n      <td>3</td>\n      <td>143</td>\n    </tr>\n    <tr>\n      <th>1484998.0</th>\n      <td>373</td>\n      <td>1.0</td>\n      <td>76.267</td>\n      <td>3</td>\n      <td>4</td>\n      <td>2</td>\n      <td>342</td>\n    </tr>\n    <tr>\n      <th>1542405.0</th>\n      <td>265</td>\n      <td>5.0</td>\n      <td>486.934</td>\n      <td>1</td>\n      <td>1</td>\n      <td>1</td>\n      <td>111</td>\n    </tr>\n    <tr>\n      <th>1560817.0</th>\n      <td>504</td>\n      <td>1.0</td>\n      <td>59.467</td>\n      <td>4</td>\n      <td>4</td>\n      <td>2</td>\n      <td>442</td>\n    </tr>\n    <tr>\n      <th>1568148.0</th>\n      <td>438</td>\n      <td>1.0</td>\n      <td>29.733</td>\n      <td>3</td>\n      <td>4</td>\n      <td>3</td>\n      <td>343</td>\n    </tr>\n    <tr>\n      <th>1609043.0</th>\n      <td>174</td>\n      <td>1.0</td>\n      <td>70.667</td>\n      <td>1</td>\n      <td>4</td>\n      <td>2</td>\n      <td>142</td>\n    </tr>\n  </tbody>\n</table>\n</div>",
            "text/plain": "             Récence  Fréquence  Montant  R_Quartile  F_Quartile  M_Quartile  \\\nCode_Client                                                                    \n126993.0         174        1.0   26.000           1           4           4   \n214674.0         143        3.0  116.800           1           1           1   \n318696.0         113        2.0   73.734           1           2           2   \n438711.0         327        3.0  102.134           2           1           1   \n495501.0         438        3.0  108.933           3           1           1   \n918238.0         600        1.0   80.667           4           4           2   \n1090522.0        292        1.0   31.467           2           4           3   \n1315018.0        355        1.0   20.000           2           4           4   \n1419361.0        265        1.0   39.333           1           4           3   \n1419459.0        438        2.0   92.667           3           2           1   \n1470727.0        327        1.0   56.400           2           4           2   \n1470729.0        393        1.0    8.267           3           4           4   \n1470850.0        438        1.0   47.200           3           4           3   \n1470868.0        748        1.0    5.467           4           4           4   \n1484775.0        143        1.0   40.000           1           4           3   \n1484998.0        373        1.0   76.267           3           4           2   \n1542405.0        265        5.0  486.934           1           1           1   \n1560817.0        504        1.0   59.467           4           4           2   \n1568148.0        438        1.0   29.733           3           4           3   \n1609043.0        174        1.0   70.667           1           4           2   \n\n            RFMClass  \nCode_Client           \n126993.0         144  \n214674.0         111  \n318696.0         122  \n438711.0         211  \n495501.0         311  \n918238.0         442  \n1090522.0        243  \n1315018.0        244  \n1419361.0        143  \n1419459.0        321  \n1470727.0        242  \n1470729.0        344  \n1470850.0        343  \n1470868.0        444  \n1484775.0        143  \n1484998.0        342  \n1542405.0        111  \n1560817.0        442  \n1568148.0        343  \n1609043.0        142  "
          },
          "metadata": {}
        }
      ]
    },
    {
      "metadata": {},
      "cell_type": "markdown",
      "source": "## Tri par score RFM décroissant"
    },
    {
      "metadata": {
        "trusted": true
      },
      "cell_type": "code",
      "source": "SegmentationRFM.sort_values(by=['RFMClass'], ascending=[False])",
      "execution_count": 22,
      "outputs": [
        {
          "output_type": "execute_result",
          "execution_count": 22,
          "data": {
            "text/html": "<div>\n<style scoped>\n    .dataframe tbody tr th:only-of-type {\n        vertical-align: middle;\n    }\n\n    .dataframe tbody tr th {\n        vertical-align: top;\n    }\n\n    .dataframe thead th {\n        text-align: right;\n    }\n</style>\n<table border=\"1\" class=\"dataframe\">\n  <thead>\n    <tr style=\"text-align: right;\">\n      <th></th>\n      <th>Récence</th>\n      <th>Fréquence</th>\n      <th>Montant</th>\n      <th>R_Quartile</th>\n      <th>F_Quartile</th>\n      <th>M_Quartile</th>\n      <th>RFMClass</th>\n    </tr>\n    <tr>\n      <th>Code_Client</th>\n      <th></th>\n      <th></th>\n      <th></th>\n      <th></th>\n      <th></th>\n      <th></th>\n      <th></th>\n    </tr>\n  </thead>\n  <tbody>\n    <tr>\n      <th>2273695.0</th>\n      <td>748</td>\n      <td>1.0</td>\n      <td>22.133</td>\n      <td>4</td>\n      <td>4</td>\n      <td>4</td>\n      <td>444</td>\n    </tr>\n    <tr>\n      <th>2248528.0</th>\n      <td>751</td>\n      <td>1.0</td>\n      <td>11.600</td>\n      <td>4</td>\n      <td>4</td>\n      <td>4</td>\n      <td>444</td>\n    </tr>\n    <tr>\n      <th>4215108.0</th>\n      <td>748</td>\n      <td>1.0</td>\n      <td>13.333</td>\n      <td>4</td>\n      <td>4</td>\n      <td>4</td>\n      <td>444</td>\n    </tr>\n    <tr>\n      <th>2255804.0</th>\n      <td>751</td>\n      <td>1.0</td>\n      <td>26.587</td>\n      <td>4</td>\n      <td>4</td>\n      <td>4</td>\n      <td>444</td>\n    </tr>\n    <tr>\n      <th>4209466.0</th>\n      <td>692</td>\n      <td>1.0</td>\n      <td>26.000</td>\n      <td>4</td>\n      <td>4</td>\n      <td>4</td>\n      <td>444</td>\n    </tr>\n    <tr>\n      <th>2874132.0</th>\n      <td>725</td>\n      <td>1.0</td>\n      <td>27.813</td>\n      <td>4</td>\n      <td>4</td>\n      <td>4</td>\n      <td>444</td>\n    </tr>\n    <tr>\n      <th>2874172.0</th>\n      <td>692</td>\n      <td>1.0</td>\n      <td>7.867</td>\n      <td>4</td>\n      <td>4</td>\n      <td>4</td>\n      <td>444</td>\n    </tr>\n    <tr>\n      <th>2874184.0</th>\n      <td>627</td>\n      <td>1.0</td>\n      <td>13.200</td>\n      <td>4</td>\n      <td>4</td>\n      <td>4</td>\n      <td>444</td>\n    </tr>\n    <tr>\n      <th>4139781.0</th>\n      <td>692</td>\n      <td>1.0</td>\n      <td>12.267</td>\n      <td>4</td>\n      <td>4</td>\n      <td>4</td>\n      <td>444</td>\n    </tr>\n    <tr>\n      <th>2307887.0</th>\n      <td>692</td>\n      <td>1.0</td>\n      <td>4.400</td>\n      <td>4</td>\n      <td>4</td>\n      <td>4</td>\n      <td>444</td>\n    </tr>\n    <tr>\n      <th>2882863.0</th>\n      <td>725</td>\n      <td>1.0</td>\n      <td>20.720</td>\n      <td>4</td>\n      <td>4</td>\n      <td>4</td>\n      <td>444</td>\n    </tr>\n    <tr>\n      <th>2894126.0</th>\n      <td>748</td>\n      <td>1.0</td>\n      <td>8.800</td>\n      <td>4</td>\n      <td>4</td>\n      <td>4</td>\n      <td>444</td>\n    </tr>\n    <tr>\n      <th>2307852.0</th>\n      <td>731</td>\n      <td>1.0</td>\n      <td>5.867</td>\n      <td>4</td>\n      <td>4</td>\n      <td>4</td>\n      <td>444</td>\n    </tr>\n    <tr>\n      <th>2728027.0</th>\n      <td>692</td>\n      <td>1.0</td>\n      <td>8.267</td>\n      <td>4</td>\n      <td>4</td>\n      <td>4</td>\n      <td>444</td>\n    </tr>\n    <tr>\n      <th>2906986.0</th>\n      <td>600</td>\n      <td>1.0</td>\n      <td>20.133</td>\n      <td>4</td>\n      <td>4</td>\n      <td>4</td>\n      <td>444</td>\n    </tr>\n    <tr>\n      <th>2248511.0</th>\n      <td>748</td>\n      <td>1.0</td>\n      <td>11.067</td>\n      <td>4</td>\n      <td>4</td>\n      <td>4</td>\n      <td>444</td>\n    </tr>\n    <tr>\n      <th>2915724.0</th>\n      <td>748</td>\n      <td>1.0</td>\n      <td>9.467</td>\n      <td>4</td>\n      <td>4</td>\n      <td>4</td>\n      <td>444</td>\n    </tr>\n    <tr>\n      <th>2248471.0</th>\n      <td>751</td>\n      <td>1.0</td>\n      <td>12.000</td>\n      <td>4</td>\n      <td>4</td>\n      <td>4</td>\n      <td>444</td>\n    </tr>\n    <tr>\n      <th>2968132.0</th>\n      <td>600</td>\n      <td>1.0</td>\n      <td>5.733</td>\n      <td>4</td>\n      <td>4</td>\n      <td>4</td>\n      <td>444</td>\n    </tr>\n    <tr>\n      <th>2984772.0</th>\n      <td>748</td>\n      <td>1.0</td>\n      <td>27.067</td>\n      <td>4</td>\n      <td>4</td>\n      <td>4</td>\n      <td>444</td>\n    </tr>\n    <tr>\n      <th>2248358.0</th>\n      <td>692</td>\n      <td>1.0</td>\n      <td>8.653</td>\n      <td>4</td>\n      <td>4</td>\n      <td>4</td>\n      <td>444</td>\n    </tr>\n    <tr>\n      <th>4043792.0</th>\n      <td>692</td>\n      <td>1.0</td>\n      <td>23.027</td>\n      <td>4</td>\n      <td>4</td>\n      <td>4</td>\n      <td>444</td>\n    </tr>\n    <tr>\n      <th>3018687.0</th>\n      <td>692</td>\n      <td>1.0</td>\n      <td>8.653</td>\n      <td>4</td>\n      <td>4</td>\n      <td>4</td>\n      <td>444</td>\n    </tr>\n    <tr>\n      <th>3037501.0</th>\n      <td>600</td>\n      <td>1.0</td>\n      <td>16.800</td>\n      <td>4</td>\n      <td>4</td>\n      <td>4</td>\n      <td>444</td>\n    </tr>\n    <tr>\n      <th>4251517.0</th>\n      <td>748</td>\n      <td>1.0</td>\n      <td>15.867</td>\n      <td>4</td>\n      <td>4</td>\n      <td>4</td>\n      <td>444</td>\n    </tr>\n    <tr>\n      <th>2696492.0</th>\n      <td>692</td>\n      <td>1.0</td>\n      <td>17.467</td>\n      <td>4</td>\n      <td>4</td>\n      <td>4</td>\n      <td>444</td>\n    </tr>\n    <tr>\n      <th>2304324.0</th>\n      <td>748</td>\n      <td>1.0</td>\n      <td>12.613</td>\n      <td>4</td>\n      <td>4</td>\n      <td>4</td>\n      <td>444</td>\n    </tr>\n    <tr>\n      <th>2478513.0</th>\n      <td>748</td>\n      <td>1.0</td>\n      <td>22.267</td>\n      <td>4</td>\n      <td>4</td>\n      <td>4</td>\n      <td>444</td>\n    </tr>\n    <tr>\n      <th>4821899.0</th>\n      <td>506</td>\n      <td>1.0</td>\n      <td>26.533</td>\n      <td>4</td>\n      <td>4</td>\n      <td>4</td>\n      <td>444</td>\n    </tr>\n    <tr>\n      <th>2375444.0</th>\n      <td>692</td>\n      <td>1.0</td>\n      <td>17.200</td>\n      <td>4</td>\n      <td>4</td>\n      <td>4</td>\n      <td>444</td>\n    </tr>\n    <tr>\n      <th>...</th>\n      <td>...</td>\n      <td>...</td>\n      <td>...</td>\n      <td>...</td>\n      <td>...</td>\n      <td>...</td>\n      <td>...</td>\n    </tr>\n    <tr>\n      <th>2304116.0</th>\n      <td>174</td>\n      <td>5.0</td>\n      <td>106.933</td>\n      <td>1</td>\n      <td>1</td>\n      <td>1</td>\n      <td>111</td>\n    </tr>\n    <tr>\n      <th>2304176.0</th>\n      <td>113</td>\n      <td>6.0</td>\n      <td>88.133</td>\n      <td>1</td>\n      <td>1</td>\n      <td>1</td>\n      <td>111</td>\n    </tr>\n    <tr>\n      <th>6844370.0</th>\n      <td>265</td>\n      <td>3.0</td>\n      <td>127.200</td>\n      <td>1</td>\n      <td>1</td>\n      <td>1</td>\n      <td>111</td>\n    </tr>\n    <tr>\n      <th>2248187.0</th>\n      <td>265</td>\n      <td>7.0</td>\n      <td>223.240</td>\n      <td>1</td>\n      <td>1</td>\n      <td>1</td>\n      <td>111</td>\n    </tr>\n    <tr>\n      <th>2458199.0</th>\n      <td>265</td>\n      <td>8.0</td>\n      <td>496.534</td>\n      <td>1</td>\n      <td>1</td>\n      <td>1</td>\n      <td>111</td>\n    </tr>\n    <tr>\n      <th>6889872.0</th>\n      <td>265</td>\n      <td>4.0</td>\n      <td>116.987</td>\n      <td>1</td>\n      <td>1</td>\n      <td>1</td>\n      <td>111</td>\n    </tr>\n    <tr>\n      <th>2274569.0</th>\n      <td>265</td>\n      <td>3.0</td>\n      <td>185.200</td>\n      <td>1</td>\n      <td>1</td>\n      <td>1</td>\n      <td>111</td>\n    </tr>\n    <tr>\n      <th>2248218.0</th>\n      <td>174</td>\n      <td>7.0</td>\n      <td>88.267</td>\n      <td>1</td>\n      <td>1</td>\n      <td>1</td>\n      <td>111</td>\n    </tr>\n    <tr>\n      <th>2453936.0</th>\n      <td>235</td>\n      <td>3.0</td>\n      <td>213.867</td>\n      <td>1</td>\n      <td>1</td>\n      <td>1</td>\n      <td>111</td>\n    </tr>\n    <tr>\n      <th>2248329.0</th>\n      <td>143</td>\n      <td>4.0</td>\n      <td>152.800</td>\n      <td>1</td>\n      <td>1</td>\n      <td>1</td>\n      <td>111</td>\n    </tr>\n    <tr>\n      <th>2447256.0</th>\n      <td>265</td>\n      <td>4.0</td>\n      <td>95.732</td>\n      <td>1</td>\n      <td>1</td>\n      <td>1</td>\n      <td>111</td>\n    </tr>\n    <tr>\n      <th>2248398.0</th>\n      <td>113</td>\n      <td>3.0</td>\n      <td>109.466</td>\n      <td>1</td>\n      <td>1</td>\n      <td>1</td>\n      <td>111</td>\n    </tr>\n    <tr>\n      <th>2414249.0</th>\n      <td>143</td>\n      <td>3.0</td>\n      <td>115.067</td>\n      <td>1</td>\n      <td>1</td>\n      <td>1</td>\n      <td>111</td>\n    </tr>\n    <tr>\n      <th>2410756.0</th>\n      <td>143</td>\n      <td>5.0</td>\n      <td>293.667</td>\n      <td>1</td>\n      <td>1</td>\n      <td>1</td>\n      <td>111</td>\n    </tr>\n    <tr>\n      <th>4764712.0</th>\n      <td>235</td>\n      <td>22.0</td>\n      <td>449.078</td>\n      <td>1</td>\n      <td>1</td>\n      <td>1</td>\n      <td>111</td>\n    </tr>\n    <tr>\n      <th>2371127.0</th>\n      <td>174</td>\n      <td>3.0</td>\n      <td>110.801</td>\n      <td>1</td>\n      <td>1</td>\n      <td>1</td>\n      <td>111</td>\n    </tr>\n    <tr>\n      <th>2304221.0</th>\n      <td>265</td>\n      <td>3.0</td>\n      <td>164.667</td>\n      <td>1</td>\n      <td>1</td>\n      <td>1</td>\n      <td>111</td>\n    </tr>\n    <tr>\n      <th>2366087.0</th>\n      <td>174</td>\n      <td>4.0</td>\n      <td>157.733</td>\n      <td>1</td>\n      <td>1</td>\n      <td>1</td>\n      <td>111</td>\n    </tr>\n    <tr>\n      <th>2364067.0</th>\n      <td>143</td>\n      <td>8.0</td>\n      <td>232.667</td>\n      <td>1</td>\n      <td>1</td>\n      <td>1</td>\n      <td>111</td>\n    </tr>\n    <tr>\n      <th>2364002.0</th>\n      <td>235</td>\n      <td>5.0</td>\n      <td>134.066</td>\n      <td>1</td>\n      <td>1</td>\n      <td>1</td>\n      <td>111</td>\n    </tr>\n    <tr>\n      <th>2354759.0</th>\n      <td>265</td>\n      <td>5.0</td>\n      <td>356.266</td>\n      <td>1</td>\n      <td>1</td>\n      <td>1</td>\n      <td>111</td>\n    </tr>\n    <tr>\n      <th>2335946.0</th>\n      <td>235</td>\n      <td>5.0</td>\n      <td>102.533</td>\n      <td>1</td>\n      <td>1</td>\n      <td>1</td>\n      <td>111</td>\n    </tr>\n    <tr>\n      <th>2334135.0</th>\n      <td>143</td>\n      <td>3.0</td>\n      <td>247.733</td>\n      <td>1</td>\n      <td>1</td>\n      <td>1</td>\n      <td>111</td>\n    </tr>\n    <tr>\n      <th>2327419.0</th>\n      <td>265</td>\n      <td>8.0</td>\n      <td>301.800</td>\n      <td>1</td>\n      <td>1</td>\n      <td>1</td>\n      <td>111</td>\n    </tr>\n    <tr>\n      <th>2324720.0</th>\n      <td>265</td>\n      <td>5.0</td>\n      <td>142.267</td>\n      <td>1</td>\n      <td>1</td>\n      <td>1</td>\n      <td>111</td>\n    </tr>\n    <tr>\n      <th>5035631.0</th>\n      <td>38</td>\n      <td>4.0</td>\n      <td>130.254</td>\n      <td>1</td>\n      <td>1</td>\n      <td>1</td>\n      <td>111</td>\n    </tr>\n    <tr>\n      <th>5093099.0</th>\n      <td>265</td>\n      <td>3.0</td>\n      <td>108.400</td>\n      <td>1</td>\n      <td>1</td>\n      <td>1</td>\n      <td>111</td>\n    </tr>\n    <tr>\n      <th>2307972.0</th>\n      <td>143</td>\n      <td>7.0</td>\n      <td>284.401</td>\n      <td>1</td>\n      <td>1</td>\n      <td>1</td>\n      <td>111</td>\n    </tr>\n    <tr>\n      <th>2304731.0</th>\n      <td>113</td>\n      <td>3.0</td>\n      <td>106.666</td>\n      <td>1</td>\n      <td>1</td>\n      <td>1</td>\n      <td>111</td>\n    </tr>\n    <tr>\n      <th>3651346.0</th>\n      <td>113</td>\n      <td>3.0</td>\n      <td>258.534</td>\n      <td>1</td>\n      <td>1</td>\n      <td>1</td>\n      <td>111</td>\n    </tr>\n  </tbody>\n</table>\n<p>2255 rows × 7 columns</p>\n</div>",
            "text/plain": "             Récence  Fréquence  Montant  R_Quartile  F_Quartile  M_Quartile  \\\nCode_Client                                                                    \n2273695.0        748        1.0   22.133           4           4           4   \n2248528.0        751        1.0   11.600           4           4           4   \n4215108.0        748        1.0   13.333           4           4           4   \n2255804.0        751        1.0   26.587           4           4           4   \n4209466.0        692        1.0   26.000           4           4           4   \n2874132.0        725        1.0   27.813           4           4           4   \n2874172.0        692        1.0    7.867           4           4           4   \n2874184.0        627        1.0   13.200           4           4           4   \n4139781.0        692        1.0   12.267           4           4           4   \n2307887.0        692        1.0    4.400           4           4           4   \n2882863.0        725        1.0   20.720           4           4           4   \n2894126.0        748        1.0    8.800           4           4           4   \n2307852.0        731        1.0    5.867           4           4           4   \n2728027.0        692        1.0    8.267           4           4           4   \n2906986.0        600        1.0   20.133           4           4           4   \n2248511.0        748        1.0   11.067           4           4           4   \n2915724.0        748        1.0    9.467           4           4           4   \n2248471.0        751        1.0   12.000           4           4           4   \n2968132.0        600        1.0    5.733           4           4           4   \n2984772.0        748        1.0   27.067           4           4           4   \n2248358.0        692        1.0    8.653           4           4           4   \n4043792.0        692        1.0   23.027           4           4           4   \n3018687.0        692        1.0    8.653           4           4           4   \n3037501.0        600        1.0   16.800           4           4           4   \n4251517.0        748        1.0   15.867           4           4           4   \n2696492.0        692        1.0   17.467           4           4           4   \n2304324.0        748        1.0   12.613           4           4           4   \n2478513.0        748        1.0   22.267           4           4           4   \n4821899.0        506        1.0   26.533           4           4           4   \n2375444.0        692        1.0   17.200           4           4           4   \n...              ...        ...      ...         ...         ...         ...   \n2304116.0        174        5.0  106.933           1           1           1   \n2304176.0        113        6.0   88.133           1           1           1   \n6844370.0        265        3.0  127.200           1           1           1   \n2248187.0        265        7.0  223.240           1           1           1   \n2458199.0        265        8.0  496.534           1           1           1   \n6889872.0        265        4.0  116.987           1           1           1   \n2274569.0        265        3.0  185.200           1           1           1   \n2248218.0        174        7.0   88.267           1           1           1   \n2453936.0        235        3.0  213.867           1           1           1   \n2248329.0        143        4.0  152.800           1           1           1   \n2447256.0        265        4.0   95.732           1           1           1   \n2248398.0        113        3.0  109.466           1           1           1   \n2414249.0        143        3.0  115.067           1           1           1   \n2410756.0        143        5.0  293.667           1           1           1   \n4764712.0        235       22.0  449.078           1           1           1   \n2371127.0        174        3.0  110.801           1           1           1   \n2304221.0        265        3.0  164.667           1           1           1   \n2366087.0        174        4.0  157.733           1           1           1   \n2364067.0        143        8.0  232.667           1           1           1   \n2364002.0        235        5.0  134.066           1           1           1   \n2354759.0        265        5.0  356.266           1           1           1   \n2335946.0        235        5.0  102.533           1           1           1   \n2334135.0        143        3.0  247.733           1           1           1   \n2327419.0        265        8.0  301.800           1           1           1   \n2324720.0        265        5.0  142.267           1           1           1   \n5035631.0         38        4.0  130.254           1           1           1   \n5093099.0        265        3.0  108.400           1           1           1   \n2307972.0        143        7.0  284.401           1           1           1   \n2304731.0        113        3.0  106.666           1           1           1   \n3651346.0        113        3.0  258.534           1           1           1   \n\n            RFMClass  \nCode_Client           \n2273695.0        444  \n2248528.0        444  \n4215108.0        444  \n2255804.0        444  \n4209466.0        444  \n2874132.0        444  \n2874172.0        444  \n2874184.0        444  \n4139781.0        444  \n2307887.0        444  \n2882863.0        444  \n2894126.0        444  \n2307852.0        444  \n2728027.0        444  \n2906986.0        444  \n2248511.0        444  \n2915724.0        444  \n2248471.0        444  \n2968132.0        444  \n2984772.0        444  \n2248358.0        444  \n4043792.0        444  \n3018687.0        444  \n3037501.0        444  \n4251517.0        444  \n2696492.0        444  \n2304324.0        444  \n2478513.0        444  \n4821899.0        444  \n2375444.0        444  \n...              ...  \n2304116.0        111  \n2304176.0        111  \n6844370.0        111  \n2248187.0        111  \n2458199.0        111  \n6889872.0        111  \n2274569.0        111  \n2248218.0        111  \n2453936.0        111  \n2248329.0        111  \n2447256.0        111  \n2248398.0        111  \n2414249.0        111  \n2410756.0        111  \n4764712.0        111  \n2371127.0        111  \n2304221.0        111  \n2366087.0        111  \n2364067.0        111  \n2364002.0        111  \n2354759.0        111  \n2335946.0        111  \n2334135.0        111  \n2327419.0        111  \n2324720.0        111  \n5035631.0        111  \n5093099.0        111  \n2307972.0        111  \n2304731.0        111  \n3651346.0        111  \n\n[2255 rows x 7 columns]"
          },
          "metadata": {}
        }
      ]
    },
    {
      "metadata": {},
      "cell_type": "markdown",
      "source": "## 3. Exportation des résultats"
    },
    {
      "metadata": {
        "trusted": true
      },
      "cell_type": "code",
      "source": "SegmentationRFM.to_csv('SegmentationRFM.csv', sep=',')",
      "execution_count": 23,
      "outputs": []
    },
    {
      "metadata": {
        "trusted": true
      },
      "cell_type": "code",
      "source": "SegmentationRFM.to_excel('SegmentationRFM.xlsx')",
      "execution_count": 24,
      "outputs": []
    },
    {
      "metadata": {
        "trusted": true
      },
      "cell_type": "code",
      "source": "%ls S*.* -l",
      "execution_count": 25,
      "outputs": [
        {
          "output_type": "stream",
          "text": "-rw-r--r-- 1 nbuser nbuser 84008 Oct 18 13:54 SegmentationRFM.csv\r\n-rw-r--r-- 1 nbuser nbuser 89388 Oct 18 13:54 SegmentationRFM.xlsx\r\n",
          "name": "stdout"
        }
      ]
    },
    {
      "metadata": {
        "trusted": true
      },
      "cell_type": "code",
      "source": "",
      "execution_count": null,
      "outputs": []
    }
  ],
  "metadata": {
    "kernelspec": {
      "name": "python36",
      "display_name": "Python 3.6",
      "language": "python"
    },
    "language_info": {
      "mimetype": "text/x-python",
      "nbconvert_exporter": "python",
      "name": "python",
      "pygments_lexer": "ipython3",
      "version": "3.6.6",
      "file_extension": ".py",
      "codemirror_mode": {
        "version": 3,
        "name": "ipython"
      }
    }
  },
  "nbformat": 4,
  "nbformat_minor": 1
}